{
    "cells": [
        {
            "cell_type": "code",
            "execution_count": 1,
            "metadata": {},
            "outputs": [
                {
                    "output_type": "execute_result",
                    "data": {
                        "text/plain": [
                            "534"
                        ]
                    },
                    "metadata": {},
                    "execution_count": 1
                }
            ],
            "source": [
                "# My first notebook"
            ]
        },
        {
            "metadata": {},
            "cell_type": "markdown",
            "source": [
                "I just copied a kaggle notebook, edited it as a JSON and left only its skeleton.\n",
                "\n",
                "Nothing special here. It's like a hello world.\n",
                "\n",
                "\n",
                "Oi mundo!"
            ]
        },
        {
            "source": [
                "Using the `max` function to find the max value withing a list:"
            ],
            "cell_type": "markdown",
            "metadata": {}
        },
        {
            "metadata": {
                "trusted": true
            },
            "cell_type": "code",
            "source": [
                "max([1,2,3,25,345,35,54,3,534,5,])"
            ],
            "execution_count": 2,
            "outputs": [
                {
                    "output_type": "stream",
                    "name": "stdout",
                    "text": [
                        "smallest item based on second element in the tuple: (3, 1, 1)\nlargest item based on second element in the tuple: (8, 5, 3)\n-------\nsmallest item based on first element in the tuple: (1, 2, 3)\nlargest item based on first element in the tuple: (8, 5, 3)\n"
                    ]
                }
            ]
        },
        {
            "source": [
                "Using `max` with the optional parameter `key` to maximize a function."
            ],
            "cell_type": "markdown",
            "metadata": {}
        }
    ],
    "metadata": {
        "kernelspec": {
            "language": "python",
            "display_name": "Python 3",
            "name": "python3"
        },
        "language_info": {
            "pygments_lexer": "ipython3",
            "nbconvert_exporter": "python",
            "version": "3.8.2-final",
            "file_extension": ".py",
            "codemirror_mode": {
                "name": "ipython",
                "version": 3
            },
            "name": "python",
            "mimetype": "text/x-python"
        }
    },
    "nbformat": 4,
    "nbformat_minor": 4
}